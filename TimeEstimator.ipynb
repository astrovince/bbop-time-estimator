{
 "cells": [
  {
   "cell_type": "markdown",
   "metadata": {},
   "source": [
    "# B-BOP Time Estimator \n",
    "### V0.1\n",
    "\n",
    "This is a JupyterLab Notebook, based on the `TimeEstimator.py` script written by M. Sauvage. \n",
    "\n",
    "* **07/04/2020** First JupyterLab version - VRE\n",
    "\n",
    "\n",
    "---"
   ]
  },
  {
   "cell_type": "markdown",
   "metadata": {},
   "source": [
    "## 1. Import the Time Estimator Python Module"
   ]
  },
  {
   "cell_type": "code",
   "execution_count": 1,
   "metadata": {},
   "outputs": [],
   "source": [
    "import importlib\n",
    "import pandas as pd\n",
    "import numpy as np\n",
    "import timeEstimatorPy3 as te"
   ]
  },
  {
   "cell_type": "markdown",
   "metadata": {},
   "source": [
    "## 2. Definition of the telescope parameters\n",
    "* you can directly edit the numerical values in the cell below.\n",
    "* Then type *SHIFT-ENTER* to execute."
   ]
  },
  {
   "cell_type": "code",
   "execution_count": 2,
   "metadata": {},
   "outputs": [],
   "source": [
    "#importlib.reload(te)\n",
    "te.zodiTemp=265\n",
    "te.telDiam=2.5\n",
    "te.telTemp=8.0\n",
    "te.telEmissivity=0.09"
   ]
  },
  {
   "cell_type": "markdown",
   "metadata": {},
   "source": [
    "## 3. Results\n",
    "The following parameters are computed :\n",
    "\n",
    "* **NEP** corresponds to the photon NEP at pixel level by default. \n",
    "Use option `incident=False` to compute absorbed NEP.  Use option `withDet=True` to compute the \"full\" NEP (Photon + detector). \n",
    "\n",
    "* **FWHM**\n",
    "\n",
    "* **Map Sensitivity**"
   ]
  },
  {
   "cell_type": "code",
   "execution_count": 35,
   "metadata": {},
   "outputs": [
    {
     "data": {
      "text/html": [
       "<style  type=\"text/css\" >\n",
       "    #T_623116e4_a5e9_11ea_a135_14109fcfd949row0_col0 {\n",
       "            font-size:  13pt;\n",
       "        }    #T_623116e4_a5e9_11ea_a135_14109fcfd949row0_col1 {\n",
       "            font-size:  13pt;\n",
       "        }    #T_623116e4_a5e9_11ea_a135_14109fcfd949row0_col2 {\n",
       "            font-size:  13pt;\n",
       "        }    #T_623116e4_a5e9_11ea_a135_14109fcfd949row1_col0 {\n",
       "            font-size:  13pt;\n",
       "        }    #T_623116e4_a5e9_11ea_a135_14109fcfd949row1_col1 {\n",
       "            font-size:  13pt;\n",
       "        }    #T_623116e4_a5e9_11ea_a135_14109fcfd949row1_col2 {\n",
       "            font-size:  13pt;\n",
       "        }    #T_623116e4_a5e9_11ea_a135_14109fcfd949row2_col0 {\n",
       "            font-size:  13pt;\n",
       "        }    #T_623116e4_a5e9_11ea_a135_14109fcfd949row2_col1 {\n",
       "            font-size:  13pt;\n",
       "        }    #T_623116e4_a5e9_11ea_a135_14109fcfd949row2_col2 {\n",
       "            font-size:  13pt;\n",
       "        }    #T_623116e4_a5e9_11ea_a135_14109fcfd949row3_col0 {\n",
       "            font-size:  13pt;\n",
       "        }    #T_623116e4_a5e9_11ea_a135_14109fcfd949row3_col1 {\n",
       "            font-size:  13pt;\n",
       "        }    #T_623116e4_a5e9_11ea_a135_14109fcfd949row3_col2 {\n",
       "            font-size:  13pt;\n",
       "        }</style><table id=\"T_623116e4_a5e9_11ea_a135_14109fcfd949\" ><thead>    <tr>        <th class=\"blank level0\" ></th>        <th class=\"col_heading level0 col0\" >Band 1</th>        <th class=\"col_heading level0 col1\" >Band 2</th>        <th class=\"col_heading level0 col2\" >Band 3</th>    </tr></thead><tbody>\n",
       "                <tr>\n",
       "                        <th id=\"T_623116e4_a5e9_11ea_a135_14109fcfd949level0_row0\" class=\"row_heading level0 row0\" >NEP (1E18 W.Hz$^{-1/2}$)</th>\n",
       "                        <td id=\"T_623116e4_a5e9_11ea_a135_14109fcfd949row0_col0\" class=\"data row0 col0\" >1.03</td>\n",
       "                        <td id=\"T_623116e4_a5e9_11ea_a135_14109fcfd949row0_col1\" class=\"data row0 col1\" >2.17</td>\n",
       "                        <td id=\"T_623116e4_a5e9_11ea_a135_14109fcfd949row0_col2\" class=\"data row0 col2\" >7.35</td>\n",
       "            </tr>\n",
       "            <tr>\n",
       "                        <th id=\"T_623116e4_a5e9_11ea_a135_14109fcfd949level0_row1\" class=\"row_heading level0 row1\" >FWHM  (arcsec)</th>\n",
       "                        <td id=\"T_623116e4_a5e9_11ea_a135_14109fcfd949row1_col0\" class=\"data row1 col0\" >5.94</td>\n",
       "                        <td id=\"T_623116e4_a5e9_11ea_a135_14109fcfd949row1_col1\" class=\"data row1 col1\" >16.96</td>\n",
       "                        <td id=\"T_623116e4_a5e9_11ea_a135_14109fcfd949row1_col2\" class=\"data row1 col2\" >29.69</td>\n",
       "            </tr>\n",
       "            <tr>\n",
       "                        <th id=\"T_623116e4_a5e9_11ea_a135_14109fcfd949level0_row2\" class=\"row_heading level0 row2\" >Sensitivity (ext. sources) (MJy/sr)</th>\n",
       "                        <td id=\"T_623116e4_a5e9_11ea_a135_14109fcfd949row2_col0\" class=\"data row2 col0\" >0.34</td>\n",
       "                        <td id=\"T_623116e4_a5e9_11ea_a135_14109fcfd949row2_col1\" class=\"data row2 col1\" >0.13</td>\n",
       "                        <td id=\"T_623116e4_a5e9_11ea_a135_14109fcfd949row2_col2\" class=\"data row2 col2\" >0.10</td>\n",
       "            </tr>\n",
       "            <tr>\n",
       "                        <th id=\"T_623116e4_a5e9_11ea_a135_14109fcfd949level0_row3\" class=\"row_heading level0 row3\" >Sensitivity (point sources) (mJy)</th>\n",
       "                        <td id=\"T_623116e4_a5e9_11ea_a135_14109fcfd949row3_col0\" class=\"data row3 col0\" >0.29</td>\n",
       "                        <td id=\"T_623116e4_a5e9_11ea_a135_14109fcfd949row3_col1\" class=\"data row3 col1\" >0.92</td>\n",
       "                        <td id=\"T_623116e4_a5e9_11ea_a135_14109fcfd949row3_col2\" class=\"data row3 col2\" >2.86</td>\n",
       "            </tr>\n",
       "    </tbody></table>"
      ],
      "text/plain": [
       "<pandas.io.formats.style.Styler at 0x10ff90f50>"
      ]
     },
     "execution_count": 35,
     "metadata": {},
     "output_type": "execute_result"
    }
   ],
   "source": [
    "NamePerf=[\"NEP (1E18 W.Hz$^{-1/2}$)\", \"FWHM  (arcsec)\", \"Sensitivity (ext. sources) (MJy/sr)\",\"Sensitivity (point sources) (mJy)\" ]\n",
    "\n",
    "############## NEP ##############\n",
    "# Parameters\n",
    "withDet=False\n",
    "incident=True\n",
    "#\n",
    "N1=1E18*te.getNEP(band=1, withDet=withDet, incident=incident)\n",
    "N2=1E18*te.getNEP(band=2, withDet=withDet, incident=incident)\n",
    "N3=1E18*te.getNEP(band=3, withDet=withDet, incident=incident)\n",
    "\n",
    "\n",
    "############## FWHM ##############\n",
    "F1=te.getFwhm(te.telDiam,te.bandWave)\n",
    "\n",
    "\n",
    "############## MAP Sensitivity PARAMETERS ##############\n",
    "# Parameters\n",
    "ston=5   # Signal To Noise\n",
    "area=1   # the area of the map (degrees)\n",
    "#\n",
    "Sensiv=np.array(te.getSensitivity(ston,area,silent=True))\n",
    "\n",
    "\n",
    "############## Builds the Table ##############\n",
    "dataTable={'Band 1':[N1, F1[0], Sensiv[0,0], Sensiv[1,0]], 'Band 2':[N2, F1[1], Sensiv[0,1], Sensiv[1,1]], 'Band 3':[N3, F1[2], Sensiv[0,2], Sensiv[1,2]]}\n",
    "dt=pd.DataFrame(data=dataTable, index=NamePerf)\n",
    "pd.set_option('display.precision', 2)\n",
    "#dataTable_Frame.style.set_properties(**{'font-size': '20pt'})\n",
    "#dataTable_Frame.style.hide_index()\n",
    "dt.style.set_properties(**{'font-size': '13pt'})\\\n",
    "    .set_precision(2)"
   ]
  }
 ],
 "metadata": {
  "kernelspec": {
   "display_name": "Python 3",
   "language": "python",
   "name": "python3"
  },
  "language_info": {
   "codemirror_mode": {
    "name": "ipython",
    "version": 3
   },
   "file_extension": ".py",
   "mimetype": "text/x-python",
   "name": "python",
   "nbconvert_exporter": "python",
   "pygments_lexer": "ipython3",
   "version": "3.7.6"
  }
 },
 "nbformat": 4,
 "nbformat_minor": 4
}
